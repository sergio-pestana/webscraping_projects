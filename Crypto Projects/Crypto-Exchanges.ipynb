{
 "cells": [
  {
   "cell_type": "code",
   "execution_count": 1,
   "id": "ce74902e-38bf-4ba4-b268-5017f27edcea",
   "metadata": {},
   "outputs": [],
   "source": [
    "from requests import Request, Session\n",
    "import json\n",
    "import pprint\n",
    "import pandas as pd\n",
    "import datetime"
   ]
  },
  {
   "cell_type": "markdown",
   "id": "cf4c1141-a1b3-41e8-a2da-fc54f96ecb8d",
   "metadata": {},
   "source": [
    "# Top 150 Exchanges"
   ]
  },
  {
   "cell_type": "code",
   "execution_count": 2,
   "id": "cfb6b0ff-9445-4190-9bd5-84fe70dfc2bc",
   "metadata": {},
   "outputs": [],
   "source": [
    "url = 'https://pro-api.coinmarketcap.com/v1/exchange/map'"
   ]
  },
  {
   "cell_type": "code",
   "execution_count": 3,
   "id": "fabe88d1-84d1-439b-8ac3-7370c399ba18",
   "metadata": {
    "tags": []
   },
   "outputs": [],
   "source": [
    "parameters = {\n",
    "    'limit':1500,\n",
    "    'sort':'id'\n",
    "}\n",
    "\n",
    "headers = {\n",
    "    'Accepts':'application/json',\n",
    "    'X-CMC_PRO_API_KEY':'ce30a443-58a6-479a-b1b4-666987fed5f6'\n",
    "    }"
   ]
  },
  {
   "cell_type": "code",
   "execution_count": 4,
   "id": "679fc0f0-d658-4b2b-b22b-76fbd02166e6",
   "metadata": {},
   "outputs": [],
   "source": [
    "session = Session()\n",
    "session.headers.update(headers)"
   ]
  },
  {
   "cell_type": "code",
   "execution_count": 5,
   "id": "00560f65-0f83-434e-a314-b50dad64242b",
   "metadata": {},
   "outputs": [],
   "source": [
    "response = session.get(url, params=parameters)"
   ]
  },
  {
   "cell_type": "code",
   "execution_count": 6,
   "id": "a20180a1-ab87-4090-bc7a-fa03e8bcd288",
   "metadata": {},
   "outputs": [
    {
     "name": "stdout",
     "output_type": "stream",
     "text": [
      "523\n"
     ]
    }
   ],
   "source": [
    "pprint.pprint(len(json.loads(response.text)['data']))"
   ]
  },
  {
   "cell_type": "code",
   "execution_count": 7,
   "id": "353b4b32-0532-4723-bb89-481f03ad1039",
   "metadata": {},
   "outputs": [],
   "source": [
    "symbols = []\n",
    "ids = []\n",
    "\n",
    "for i in range(0, len(json.loads(response.text)['data'])):\n",
    "    symbol = json.loads(response.text)['data'][i]['slug']\n",
    "    ID = json.loads(response.text)['data'][i]['id']\n",
    "    symbols.append(symbol)\n",
    "    ids.append(ID)"
   ]
  },
  {
   "cell_type": "code",
   "execution_count": 8,
   "id": "1649438c-4845-463c-9b00-c51dbe98dcb4",
   "metadata": {},
   "outputs": [],
   "source": [
    "# symbols\n",
    "# ids"
   ]
  },
  {
   "cell_type": "markdown",
   "id": "e60c8aca-c19c-450f-93ed-0bfd4666de53",
   "metadata": {},
   "source": [
    "# Preços e informações "
   ]
  },
  {
   "cell_type": "code",
   "execution_count": 9,
   "id": "1b5d6681-3d0c-4fab-99bf-c079b8c429ae",
   "metadata": {},
   "outputs": [],
   "source": [
    "url = 'https://pro-api.coinmarketcap.com/v1/exchange/info'"
   ]
  },
  {
   "cell_type": "code",
   "execution_count": 10,
   "id": "7aa24d03-741e-4c4c-8baf-786168ca7a03",
   "metadata": {},
   "outputs": [],
   "source": [
    "session = Session()\n",
    "session.headers.update(headers)"
   ]
  },
  {
   "cell_type": "code",
   "execution_count": 11,
   "id": "1c291f46-5602-442b-bbaf-65c1198dec73",
   "metadata": {},
   "outputs": [],
   "source": [
    "# ','.join(symbols)"
   ]
  },
  {
   "cell_type": "code",
   "execution_count": 12,
   "id": "6f4d1708-b68f-46d4-9f5d-e5106c992656",
   "metadata": {},
   "outputs": [],
   "source": [
    "parameters = {\n",
    "    'slug':','.join(symbols)\n",
    "    }"
   ]
  },
  {
   "cell_type": "code",
   "execution_count": 13,
   "id": "65bcd0d1-69a0-48b1-858a-ac1113110421",
   "metadata": {},
   "outputs": [],
   "source": [
    "response = session.get(url, params=parameters)"
   ]
  },
  {
   "cell_type": "code",
   "execution_count": 14,
   "id": "997fe10f-0438-4155-b249-46130a71f841",
   "metadata": {},
   "outputs": [],
   "source": [
    "data = json.loads(response.text)['data']"
   ]
  },
  {
   "cell_type": "code",
   "execution_count": 15,
   "id": "cc0e4fe3-6fca-4e65-8b76-5171f907839e",
   "metadata": {},
   "outputs": [],
   "source": [
    "# list(json.loads(response.text)['data'].keys())"
   ]
  },
  {
   "cell_type": "code",
   "execution_count": 16,
   "id": "f65cb7cb-b4bd-405d-80c7-fc717cf1219c",
   "metadata": {},
   "outputs": [],
   "source": [
    "exchange_info_json = []\n",
    "\n",
    "for k in list(json.loads(response.text)['data'].keys()):\n",
    "    exchange_info_json.append(data[k])"
   ]
  },
  {
   "cell_type": "code",
   "execution_count": 17,
   "id": "c5dde7ae-e7f2-498c-97bb-b715392fb558",
   "metadata": {},
   "outputs": [
    {
     "data": {
      "text/plain": [
       "523"
      ]
     },
     "execution_count": 17,
     "metadata": {},
     "output_type": "execute_result"
    }
   ],
   "source": [
    "len(exchange_info_json)"
   ]
  },
  {
   "cell_type": "code",
   "execution_count": 18,
   "id": "151a152c-cded-45e7-9021-421cdbf2182b",
   "metadata": {},
   "outputs": [],
   "source": [
    "# 'Name', 'alltime_volume', 'weekly_visits'\n",
    "name = []\n",
    "logo = []\n",
    "alltime_volume = []\n",
    "weekly_visits = []\n",
    "types = []\n",
    "\n",
    "for c in range(0, len(exchange_info_json)):\n",
    "    \n",
    "    ### THE ACTUAL INFORMATION\n",
    "    c_name = exchange_info_json[c]['name']\n",
    "    c_logo = exchange_info_json[c]['logo']\n",
    "    c_volume = exchange_info_json[c]['spot_volume_usd']\n",
    "    c_visits = exchange_info_json[c]['weekly_visits']\n",
    "    c_type = exchange_info_json[c]['type']\n",
    "    \n",
    "    ### APPENDING IT TO THE LISTS\n",
    "    name.append(c_name)\n",
    "    logo.append(c_logo)\n",
    "    alltime_volume.append(c_volume)\n",
    "    weekly_visits.append(c_visits)\n",
    "    types.append(c_type)\n",
    "    \n",
    "    "
   ]
  },
  {
   "cell_type": "code",
   "execution_count": 19,
   "id": "cf0605a9-dc75-408f-9ead-e4e02b5a450c",
   "metadata": {},
   "outputs": [],
   "source": [
    "# 'Rank', 'Name', 'Price', '24h %', '7d %', '30d %', 'Marketcap', 'volume 24h', 'volume 24h %'\n",
    "\n",
    "data = {'Name':name, 'URL Logo':logo, 'All Time Spot Volume':alltime_volume, 'Weekly Visits':weekly_visits}\n",
    "\n",
    "exchanges_df = pd.DataFrame(data)"
   ]
  },
  {
   "cell_type": "code",
   "execution_count": 20,
   "id": "2d7ee29a-d0ae-46f1-bfcb-7046d993e35c",
   "metadata": {},
   "outputs": [
    {
     "data": {
      "text/html": [
       "<div>\n",
       "<style scoped>\n",
       "    .dataframe tbody tr th:only-of-type {\n",
       "        vertical-align: middle;\n",
       "    }\n",
       "\n",
       "    .dataframe tbody tr th {\n",
       "        vertical-align: top;\n",
       "    }\n",
       "\n",
       "    .dataframe thead th {\n",
       "        text-align: right;\n",
       "    }\n",
       "</style>\n",
       "<table border=\"1\" class=\"dataframe\">\n",
       "  <thead>\n",
       "    <tr style=\"text-align: right;\">\n",
       "      <th></th>\n",
       "      <th>Name</th>\n",
       "      <th>URL Logo</th>\n",
       "      <th>All Time Spot Volume</th>\n",
       "      <th>Weekly Visits</th>\n",
       "    </tr>\n",
       "  </thead>\n",
       "  <tbody>\n",
       "    <tr>\n",
       "      <th>0</th>\n",
       "      <td>1inch Exchange</td>\n",
       "      <td>https://s2.coinmarketcap.com/static/img/exchan...</td>\n",
       "      <td>5.802216e+05</td>\n",
       "      <td>78636.0</td>\n",
       "    </tr>\n",
       "    <tr>\n",
       "      <th>1</th>\n",
       "      <td>1inch Liquidity Protocol</td>\n",
       "      <td>https://s2.coinmarketcap.com/static/img/exchan...</td>\n",
       "      <td>9.410987e+04</td>\n",
       "      <td>6954.0</td>\n",
       "    </tr>\n",
       "    <tr>\n",
       "      <th>2</th>\n",
       "      <td>50x</td>\n",
       "      <td>https://s2.coinmarketcap.com/static/img/exchan...</td>\n",
       "      <td>1.477082e+05</td>\n",
       "      <td>4903.0</td>\n",
       "    </tr>\n",
       "    <tr>\n",
       "      <th>3</th>\n",
       "      <td>Aave</td>\n",
       "      <td>https://s2.coinmarketcap.com/static/img/exchan...</td>\n",
       "      <td>7.033807e+07</td>\n",
       "      <td>99539.0</td>\n",
       "    </tr>\n",
       "    <tr>\n",
       "      <th>4</th>\n",
       "      <td>AAX</td>\n",
       "      <td>https://s2.coinmarketcap.com/static/img/exchan...</td>\n",
       "      <td>2.471843e+09</td>\n",
       "      <td>1407476.0</td>\n",
       "    </tr>\n",
       "    <tr>\n",
       "      <th>...</th>\n",
       "      <td>...</td>\n",
       "      <td>...</td>\n",
       "      <td>...</td>\n",
       "      <td>...</td>\n",
       "    </tr>\n",
       "    <tr>\n",
       "      <th>518</th>\n",
       "      <td>Zipmex</td>\n",
       "      <td>https://s2.coinmarketcap.com/static/img/exchan...</td>\n",
       "      <td>NaN</td>\n",
       "      <td>163092.0</td>\n",
       "    </tr>\n",
       "    <tr>\n",
       "      <th>519</th>\n",
       "      <td>Zipswap</td>\n",
       "      <td>https://s2.coinmarketcap.com/static/img/exchan...</td>\n",
       "      <td>NaN</td>\n",
       "      <td>3907.0</td>\n",
       "    </tr>\n",
       "    <tr>\n",
       "      <th>520</th>\n",
       "      <td>Zonda (BitBay)</td>\n",
       "      <td>https://s2.coinmarketcap.com/static/img/exchan...</td>\n",
       "      <td>NaN</td>\n",
       "      <td>111926.0</td>\n",
       "    </tr>\n",
       "    <tr>\n",
       "      <th>521</th>\n",
       "      <td>ZOOMEX</td>\n",
       "      <td>https://s2.coinmarketcap.com/static/img/exchan...</td>\n",
       "      <td>NaN</td>\n",
       "      <td>144912.0</td>\n",
       "    </tr>\n",
       "    <tr>\n",
       "      <th>522</th>\n",
       "      <td>ZT</td>\n",
       "      <td>https://s2.coinmarketcap.com/static/img/exchan...</td>\n",
       "      <td>NaN</td>\n",
       "      <td>240876.0</td>\n",
       "    </tr>\n",
       "  </tbody>\n",
       "</table>\n",
       "<p>523 rows × 4 columns</p>\n",
       "</div>"
      ],
      "text/plain": [
       "                         Name  \\\n",
       "0              1inch Exchange   \n",
       "1    1inch Liquidity Protocol   \n",
       "2                         50x   \n",
       "3                        Aave   \n",
       "4                         AAX   \n",
       "..                        ...   \n",
       "518                    Zipmex   \n",
       "519                   Zipswap   \n",
       "520            Zonda (BitBay)   \n",
       "521                    ZOOMEX   \n",
       "522                        ZT   \n",
       "\n",
       "                                              URL Logo  All Time Spot Volume  \\\n",
       "0    https://s2.coinmarketcap.com/static/img/exchan...          5.802216e+05   \n",
       "1    https://s2.coinmarketcap.com/static/img/exchan...          9.410987e+04   \n",
       "2    https://s2.coinmarketcap.com/static/img/exchan...          1.477082e+05   \n",
       "3    https://s2.coinmarketcap.com/static/img/exchan...          7.033807e+07   \n",
       "4    https://s2.coinmarketcap.com/static/img/exchan...          2.471843e+09   \n",
       "..                                                 ...                   ...   \n",
       "518  https://s2.coinmarketcap.com/static/img/exchan...                   NaN   \n",
       "519  https://s2.coinmarketcap.com/static/img/exchan...                   NaN   \n",
       "520  https://s2.coinmarketcap.com/static/img/exchan...                   NaN   \n",
       "521  https://s2.coinmarketcap.com/static/img/exchan...                   NaN   \n",
       "522  https://s2.coinmarketcap.com/static/img/exchan...                   NaN   \n",
       "\n",
       "     Weekly Visits  \n",
       "0          78636.0  \n",
       "1           6954.0  \n",
       "2           4903.0  \n",
       "3          99539.0  \n",
       "4        1407476.0  \n",
       "..             ...  \n",
       "518       163092.0  \n",
       "519         3907.0  \n",
       "520       111926.0  \n",
       "521       144912.0  \n",
       "522       240876.0  \n",
       "\n",
       "[523 rows x 4 columns]"
      ]
     },
     "execution_count": 20,
     "metadata": {},
     "output_type": "execute_result"
    }
   ],
   "source": [
    "exchanges_df"
   ]
  },
  {
   "cell_type": "code",
   "execution_count": 21,
   "id": "16f5f8fe-e5da-45b9-aa96-ac3b46caae8a",
   "metadata": {},
   "outputs": [],
   "source": [
    "mes = datetime.date.today().month\n",
    "dia = datetime.date.today().day\n",
    "ano = datetime.date.today().year"
   ]
  },
  {
   "cell_type": "code",
   "execution_count": 22,
   "id": "f9808e2e-7ac7-48c5-9155-57010a60c224",
   "metadata": {},
   "outputs": [],
   "source": [
    "exchanges_df.to_csv(f'exchanges_{dia}0{mes}{ano}.csv' , sep=';',index=False)"
   ]
  },
  {
   "cell_type": "code",
   "execution_count": null,
   "id": "8b349ca2-d470-4ec4-b6c4-a0410231701d",
   "metadata": {},
   "outputs": [],
   "source": []
  },
  {
   "cell_type": "code",
   "execution_count": 27,
   "id": "766e692b-abb2-446e-b9c1-8b4a7d6b7479",
   "metadata": {},
   "outputs": [],
   "source": [
    "# import requests\n",
    "\n",
    "# headers = {\n",
    "#     'authority': 'api.cryptorank.io',\n",
    "#     'accept': '*/*',\n",
    "#     'accept-language': 'en-US,en;q=0.9,en-US;q=0.8,en;q=0.7',\n",
    "#     'access-control-request-headers': 'content-type',\n",
    "#     'access-control-request-method': 'GET',\n",
    "#     'origin': 'https://cryptorank.io',\n",
    "#     'referer': 'https://cryptorank.io/',\n",
    "#     'sec-fetch-dest': 'empty',\n",
    "#     'sec-fetch-mode': 'cors',\n",
    "#     'sec-fetch-site': 'same-site',\n",
    "#     'user-agent': 'Mozilla/5.0 (Windows NT 10.0; Win64; x64) AppleWebKit/537.36 (KHTML, like Gecko) Chrome/104.0.0.0 Safari/537.36',\n",
    "# }\n",
    "\n",
    "# params = {\n",
    "#     'isFull': 'true',\n",
    "# }\n",
    "\n",
    "# response = requests.get('https://api.cryptorank.io/v0/exchanges', headers=headers, params=params)"
   ]
  },
  {
   "cell_type": "code",
   "execution_count": 28,
   "id": "f1fb9e2b-5f15-4743-8944-e899889b6fb4",
   "metadata": {},
   "outputs": [],
   "source": [
    "# pd.DataFrame(response.json())"
   ]
  },
  {
   "cell_type": "code",
   "execution_count": 29,
   "id": "737ba617-3832-40f9-a97a-fe7820c10fcd",
   "metadata": {},
   "outputs": [],
   "source": [
    "# import requests\n",
    "\n",
    "# headers = {\n",
    "#     'authority': 'api.cryptorank.io',\n",
    "#     'accept': '*/*',\n",
    "#     'accept-language': 'pt-BR,pt;q=0.9,en-US;q=0.8,en;q=0.7',\n",
    "#     'access-control-request-headers': 'content-type',\n",
    "#     'access-control-request-method': 'GET',\n",
    "#     'origin': 'https://cryptorank.io',\n",
    "#     'referer': 'https://cryptorank.io/',\n",
    "#     'sec-fetch-dest': 'empty',\n",
    "#     'sec-fetch-mode': 'cors',\n",
    "#     'sec-fetch-site': 'same-site',\n",
    "#     'user-agent': 'Mozilla/5.0 (Windows NT 10.0; Win64; x64) AppleWebKit/537.36 (KHTML, like Gecko) Chrome/104.0.0.0 Safari/537.36',\n",
    "# }\n",
    "\n",
    "# params = {\n",
    "#     'isFull': 'true',\n",
    "# }\n",
    "\n",
    "# response = requests.get('https://api.cryptorank.io/v0/ido-platforms', params=params, headers=headers)"
   ]
  },
  {
   "cell_type": "code",
   "execution_count": 26,
   "id": "ccaa28d8-6ccc-4991-bea6-67709a8d24c0",
   "metadata": {},
   "outputs": [
    {
     "data": {
      "text/plain": [
       "99"
      ]
     },
     "execution_count": 26,
     "metadata": {},
     "output_type": "execute_result"
    }
   ],
   "source": [
    "# len(response.json()['data'])"
   ]
  },
  {
   "cell_type": "code",
   "execution_count": 30,
   "id": "39062bc7-58ff-4e4d-9458-1719dd5c2d3f",
   "metadata": {},
   "outputs": [],
   "source": [
    "# import requests\n",
    "\n",
    "# headers = {\n",
    "#     'authority': 'api.cryptorank.io',\n",
    "#     'accept': 'appication/json',\n",
    "#     'accept-language': 'pt-BR,pt;q=0.9,en-US;q=0.8,en;q=0.7',\n",
    "#     'content-type': 'application/json',\n",
    "#     'if-none-match': 'W/\"35155-//i8gG86zb/pQxkJsZ1hNLxh4BY\"',\n",
    "#     'origin': 'https://cryptorank.io',\n",
    "#     'referer': 'https://cryptorank.io/',\n",
    "#     'sec-ch-ua': '\"Chromium\";v=\"104\", \" Not A;Brand\";v=\"99\", \"Google Chrome\";v=\"104\"',\n",
    "#     'sec-ch-ua-mobile': '?0',\n",
    "#     'sec-ch-ua-platform': '\"Windows\"',\n",
    "#     'sec-fetch-dest': 'empty',\n",
    "#     'sec-fetch-mode': 'cors',\n",
    "#     'sec-fetch-site': 'same-site',\n",
    "#     'user-agent': 'Mozilla/5.0 (Windows NT 10.0; Win64; x64) AppleWebKit/537.36 (KHTML, like Gecko) Chrome/104.0.0.0 Safari/537.36',\n",
    "# }\n",
    "\n",
    "# response = requests.get('https://api.cryptorank.io/v0/charts/volumes-by-exchange?keys=binance,coinbasepro,okex,upbit,ftx-spot,kucoin,uniswap-v3,huobipro,kraken,mxc,gateio,hitbtc,bithumb,binance-us,whitebit,digifinex,bybit-spot,bitmart,pancake-swap,lbank,bitfinex,crypto-com,bitstamp,vindax,probit,tidex,cointiger,bitmax,latoken,exmo,coinsbit,gemini,bitflyer,poloniex,coinone,okcoin,bigone,aex,bitforex,uniswap,oceanex,balancer,cryptology,p2pb2b,bittrex,sushi-swap,bithumb-global,mm-finance,jupiter,bitbank&days=7', headers=headers)"
   ]
  },
  {
   "cell_type": "code",
   "execution_count": null,
   "id": "75f9fbf7-022a-4d10-8759-423bbcbff386",
   "metadata": {},
   "outputs": [],
   "source": [
    "len(response.json()['data'])"
   ]
  },
  {
   "cell_type": "code",
   "execution_count": 31,
   "id": "bb45b980-fb07-4eb1-b16e-fee3c214cfdb",
   "metadata": {},
   "outputs": [],
   "source": [
    "# import requests\n",
    "\n",
    "# # cookies = {\n",
    "# #     '__Host-next-auth.csrf-token': '278dd1f5eb7ba1629c11ed0dbda01e12bf3b11f3a185b7563428e636177bfc5f%7C6b8ca7fe01af05926412531dabe292c537d4c67769c784f7a2c54dbae6d9eee1',\n",
    "# #     '__Secure-next-auth.callback-url': 'https%3A%2F%2Fnomics.com',\n",
    "# #     '_ga': 'GA1.2.1087370387.1661782593',\n",
    "# #     '_gid': 'GA1.2.1202840518.1661782593',\n",
    "# #     '__gads': 'ID=1edae7d75f5ec734-22660ef745d60086:T=1661782593:RT=1661782593:S=ALNI_MZxC6gC4gRMRoAuZISNHeuYBM6_Qw',\n",
    "# #     '__gpi': 'UID=000007ba4b55fad9:T=1661782593:RT=1661782593:S=ALNI_MZdM9YoQcSpMeESndci4VCnvqUZww',\n",
    "# #     '_gat_gtag_UA_106597242_1': '1',\n",
    "# # }\n",
    "\n",
    "# headers = {\n",
    "#     'authority': 'nomics.com',\n",
    "#     'accept': '*/*',\n",
    "#     'accept-language': 'pt-BR,pt;q=0.9,en-US;q=0.8,en;q=0.7',\n",
    "#     # Requests sorts cookies= alphabetically\n",
    "#     # 'cookie': '__Host-next-auth.csrf-token=278dd1f5eb7ba1629c11ed0dbda01e12bf3b11f3a185b7563428e636177bfc5f%7C6b8ca7fe01af05926412531dabe292c537d4c67769c784f7a2c54dbae6d9eee1; __Secure-next-auth.callback-url=https%3A%2F%2Fnomics.com; _ga=GA1.2.1087370387.1661782593; _gid=GA1.2.1202840518.1661782593; __gads=ID=1edae7d75f5ec734-22660ef745d60086:T=1661782593:RT=1661782593:S=ALNI_MZxC6gC4gRMRoAuZISNHeuYBM6_Qw; __gpi=UID=000007ba4b55fad9:T=1661782593:RT=1661782593:S=ALNI_MZdM9YoQcSpMeESndci4VCnvqUZww; _gat_gtag_UA_106597242_1=1',\n",
    "#     'if-none-match': 'W/\"13cdd-8A3Jge16iIcQYOKd2UIPnfrYDSA\"',\n",
    "#     'referer': 'https://nomics.com/exchanges',\n",
    "#     'sec-ch-ua': '\"Chromium\";v=\"104\", \" Not A;Brand\";v=\"99\", \"Google Chrome\";v=\"104\"',\n",
    "#     'sec-ch-ua-mobile': '?0',\n",
    "#     'sec-ch-ua-platform': '\"Windows\"',\n",
    "#     'sec-fetch-dest': 'empty',\n",
    "#     'sec-fetch-mode': 'cors',\n",
    "#     'sec-fetch-site': 'same-origin',\n",
    "#     'user-agent': 'Mozilla/5.0 (Windows NT 10.0; Win64; x64) AppleWebKit/537.36 (KHTML, like Gecko) Chrome/104.0.0.0 Safari/537.36',\n",
    "# }\n",
    "\n",
    "# params = {\n",
    "#     'convert': 'USD',\n",
    "#     'interval': '1d',\n",
    "#     'labels': '0',\n",
    "#     'limit': '10000',\n",
    "#     'start': '0',\n",
    "# }\n",
    "\n",
    "# response = requests.get('https://nomics.com/data/exchanges-ticker', params=params, headers=headers)"
   ]
  },
  {
   "cell_type": "code",
   "execution_count": 32,
   "id": "bb4a805c-2758-4ebe-834f-80dcde4c9aa5",
   "metadata": {},
   "outputs": [],
   "source": [
    "# len(response.json()['items'])"
   ]
  },
  {
   "cell_type": "code",
   "execution_count": null,
   "id": "657ca826-f101-4d1b-91c0-5171f66fe105",
   "metadata": {},
   "outputs": [],
   "source": []
  }
 ],
 "metadata": {
  "kernelspec": {
   "display_name": "Python 3 (ipykernel)",
   "language": "python",
   "name": "python3"
  },
  "language_info": {
   "codemirror_mode": {
    "name": "ipython",
    "version": 3
   },
   "file_extension": ".py",
   "mimetype": "text/x-python",
   "name": "python",
   "nbconvert_exporter": "python",
   "pygments_lexer": "ipython3",
   "version": "3.7.10"
  }
 },
 "nbformat": 4,
 "nbformat_minor": 5
}
