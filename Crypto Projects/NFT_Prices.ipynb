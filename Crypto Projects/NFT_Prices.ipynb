{
 "cells": [
  {
   "cell_type": "code",
   "execution_count": 1,
   "id": "d2c2b657-5c74-4d77-a30c-11e644750d2c",
   "metadata": {},
   "outputs": [],
   "source": [
    "from time import sleep\n",
    "from selenium import webdriver\n",
    "from selenium.webdriver.common.by import By\n",
    "import re\n",
    "\n",
    "import pandas as pd\n",
    "import datetime\n",
    "\n",
    "from bs4 import BeautifulSoup\n",
    "import requests\n",
    "import lxml"
   ]
  },
  {
   "cell_type": "code",
   "execution_count": 2,
   "id": "6c87db40-bb60-4eba-bd4d-0faaaa3ed513",
   "metadata": {},
   "outputs": [],
   "source": [
    "# import import_ipynb\n",
    "\n",
    "# from aws_glue_crawler import AWSGlueCrawler\n",
    "# from aws_s3_hook import S3Hook\n",
    "# from presto_db import PrestoDB"
   ]
  },
  {
   "cell_type": "code",
   "execution_count": 3,
   "id": "9900ed90-6dbd-4bba-97a5-10cab8ccc403",
   "metadata": {},
   "outputs": [],
   "source": [
    "# aws_glue_crawler = AWSGlueCrawler()\n",
    "# presto_db = PrestoDB()\n",
    "# s3_hook_analysis = S3Hook()"
   ]
  },
  {
   "cell_type": "code",
   "execution_count": 4,
   "id": "cb3e87b3-67c7-4708-bd07-718763df4bff",
   "metadata": {},
   "outputs": [],
   "source": [
    "url_address = 'https://coinmarketcap.com/nft/collections'"
   ]
  },
  {
   "cell_type": "code",
   "execution_count": 5,
   "id": "fe6d28c5-7772-4a60-8813-2b84095941f6",
   "metadata": {},
   "outputs": [
    {
     "name": "stderr",
     "output_type": "stream",
     "text": [
      "C:\\Users\\sergio.pestana_warre\\miniconda3\\envs\\sandbox\\lib\\site-packages\\ipykernel_launcher.py:3: DeprecationWarning: executable_path has been deprecated, please pass in a Service object\n",
      "  This is separate from the ipykernel package so we can avoid doing imports until\n",
      "C:\\Users\\sergio.pestana_warre\\miniconda3\\envs\\sandbox\\lib\\site-packages\\ipykernel_launcher.py:3: DeprecationWarning: use options instead of chrome_options\n",
      "  This is separate from the ipykernel package so we can avoid doing imports until\n"
     ]
    }
   ],
   "source": [
    "options = webdriver.ChromeOptions()\n",
    "driver=webdriver.Chrome(chrome_options=options, \n",
    "executable_path=r\"C:\\Users\\sergio.pestana_warre\\Documents\\Warren\\data_analysts-master\\chromedriver.exe\")\n",
    "driver.get(url_address)"
   ]
  },
  {
   "cell_type": "code",
   "execution_count": 6,
   "id": "247bc57a-bcbe-4815-942d-66a260c5045a",
   "metadata": {},
   "outputs": [],
   "source": [
    "xpath = \"/html/body[@class='DAY']/div[@id='__next']/div[@class='bywovg-1 sXmSU']/div[@class='main-content']/div[@class='sc-57oli2-0 comDeo cmc-body-wrapper']/div[@class='grid']/div/div[@class='h7vnx2-1 gDdiUn @media (max-width:1200px){overflow-x:scroll;}']/table[@class='h7vnx2-2 eppVuK cmc-table  ']/thead/tr/th[@class='stickyTop'][4]/div[@class='s8fs2i-0 pEXWP']/div[@class='s8fs2i-1 gbtfIe']/p[@class='sc-1eb5slv-0 iKUzJY']\""
   ]
  },
  {
   "cell_type": "code",
   "execution_count": 7,
   "id": "d42c009d-0a20-425f-bb79-ac143f7c360d",
   "metadata": {},
   "outputs": [],
   "source": [
    "driver.find_element(By.XPATH, xpath).click()"
   ]
  },
  {
   "cell_type": "code",
   "execution_count": 8,
   "id": "94e40d84-8516-497c-be64-57b79395301e",
   "metadata": {},
   "outputs": [],
   "source": [
    "driver.execute_script(\"window.scrollTo(0, document.body.scrollHeight/5);\") ## Scroll to bottom of page with using driver\n",
    "sleep(3)\n",
    "driver.execute_script(\"window.scrollTo(document.body.scrollHeight/5, document.body.scrollHeight/3);\") ## Scroll to bottom of page with using driver\n",
    "sleep(3)\n",
    "driver.execute_script(\"window.scrollTo(document.body.scrollHeight/3, document.body.scrollHeight*3/5);\") ## Scroll to bottom of page with using driver\n",
    "sleep(3)\n",
    "driver.execute_script(\"window.scrollTo(document.body.scrollHeight*3/5, document.body.scrollHeight);\") ## Scroll to bottom of page with using driver\n",
    "sleep(3)"
   ]
  },
  {
   "cell_type": "code",
   "execution_count": 9,
   "id": "067f90cc-239a-4930-af9d-2696a26ba058",
   "metadata": {},
   "outputs": [],
   "source": [
    "html_content = driver.page_source"
   ]
  },
  {
   "cell_type": "code",
   "execution_count": 10,
   "id": "ed34a463-1724-440e-81c0-cd028b6778f6",
   "metadata": {},
   "outputs": [],
   "source": [
    "soup = BeautifulSoup(html_content, \"lxml\")"
   ]
  },
  {
   "cell_type": "code",
   "execution_count": 11,
   "id": "a237ca0f-f9fa-4277-bfd0-37b08d1f4319",
   "metadata": {},
   "outputs": [],
   "source": [
    "columns_list = []\n",
    "\n",
    "for columns in soup.table.find_all('thead'):\n",
    "    for names in columns.find_all('th'):\n",
    "        columns_list.append(names.text)"
   ]
  },
  {
   "cell_type": "code",
   "execution_count": 12,
   "id": "a26b7acc-f60b-4bc2-8f2a-7f12a7c57995",
   "metadata": {},
   "outputs": [
    {
     "data": {
      "text/plain": [
       "['#',\n",
       " 'Name',\n",
       " 'Volume24h',\n",
       " 'Est. Market Cap',\n",
       " 'Floor Price',\n",
       " 'Avg. Price24h',\n",
       " 'Sales24h',\n",
       " 'Assets',\n",
       " 'Owners',\n",
       " 'Owners%']"
      ]
     },
     "execution_count": 12,
     "metadata": {},
     "output_type": "execute_result"
    }
   ],
   "source": [
    "columns_list"
   ]
  },
  {
   "cell_type": "code",
   "execution_count": 13,
   "id": "7fea140a-28d6-4453-bd9f-285a9f083942",
   "metadata": {},
   "outputs": [],
   "source": [
    "rank_list = []\n",
    "\n",
    "for rows in soup.table.find('tbody'):\n",
    "    rank_list.append(rows.find_all('td')[0].text)"
   ]
  },
  {
   "cell_type": "code",
   "execution_count": 14,
   "id": "4d5e7e0f-7b8b-4c6a-9f0a-5a5449667514",
   "metadata": {},
   "outputs": [
    {
     "data": {
      "text/plain": [
       "['1',\n",
       " '2',\n",
       " '3',\n",
       " '4',\n",
       " '5',\n",
       " '6',\n",
       " '7',\n",
       " '8',\n",
       " '9',\n",
       " '10',\n",
       " '11',\n",
       " '12',\n",
       " '13',\n",
       " '14',\n",
       " '15',\n",
       " '16',\n",
       " '17',\n",
       " '18',\n",
       " '19',\n",
       " '20',\n",
       " '21',\n",
       " '22',\n",
       " '23',\n",
       " '24',\n",
       " '25',\n",
       " '26',\n",
       " '27',\n",
       " '28',\n",
       " '29',\n",
       " '30',\n",
       " '31',\n",
       " '32',\n",
       " '33',\n",
       " '34',\n",
       " '35',\n",
       " '36',\n",
       " '37',\n",
       " '38',\n",
       " '39',\n",
       " '40',\n",
       " '41',\n",
       " '42',\n",
       " '43',\n",
       " '44',\n",
       " '45',\n",
       " '46',\n",
       " '47',\n",
       " '48',\n",
       " '49',\n",
       " '50',\n",
       " '51',\n",
       " '52',\n",
       " '53',\n",
       " '54',\n",
       " '55',\n",
       " '56',\n",
       " '57',\n",
       " '58',\n",
       " '59',\n",
       " '60',\n",
       " '61',\n",
       " '62',\n",
       " '63',\n",
       " '64',\n",
       " '65',\n",
       " '66',\n",
       " '67',\n",
       " '68',\n",
       " '69',\n",
       " '70',\n",
       " '71',\n",
       " '72',\n",
       " '73',\n",
       " '74',\n",
       " '75',\n",
       " '76',\n",
       " '77',\n",
       " '78',\n",
       " '79',\n",
       " '80',\n",
       " '81',\n",
       " '82',\n",
       " '83',\n",
       " '84',\n",
       " '85',\n",
       " '86',\n",
       " '87',\n",
       " '88',\n",
       " '89',\n",
       " '90',\n",
       " '91',\n",
       " '92',\n",
       " '93',\n",
       " '94',\n",
       " '95',\n",
       " '96',\n",
       " '97',\n",
       " '98',\n",
       " '99',\n",
       " '100']"
      ]
     },
     "execution_count": 14,
     "metadata": {},
     "output_type": "execute_result"
    }
   ],
   "source": [
    "rank_list"
   ]
  },
  {
   "cell_type": "code",
   "execution_count": 15,
   "id": "72fac2ef-d601-4c33-9113-aedffa78a9dd",
   "metadata": {},
   "outputs": [],
   "source": [
    "name_list = []\n",
    "\n",
    "for rows in soup.table.find('tbody'):\n",
    "    name_list.append(rows.find_all('td')[1].find('div').find('span').text)\n"
   ]
  },
  {
   "cell_type": "code",
   "execution_count": 16,
   "id": "4c0a6dea-8408-43e7-bc15-521f35a0f757",
   "metadata": {},
   "outputs": [],
   "source": [
    "img_list = []\n",
    "\n",
    "for rows in soup.table.find('tbody'):\n",
    "    img_list.append(rows.find_all('td')[1].find('img').get('src'))\n"
   ]
  },
  {
   "cell_type": "code",
   "execution_count": 17,
   "id": "bb2921c1-5fb5-40d6-b878-ead09b2542b6",
   "metadata": {},
   "outputs": [],
   "source": [
    "# img_list"
   ]
  },
  {
   "cell_type": "code",
   "execution_count": 18,
   "id": "8632c2aa-b334-470d-9d28-e6473d6644f3",
   "metadata": {},
   "outputs": [],
   "source": [
    "base_comp = []\n",
    "\n",
    "for rows in soup.table.find('tbody'):\n",
    "    base_comp.append(next(rows.find_all('td')[2].find('div').children, 0).split(' ')[1])\n"
   ]
  },
  {
   "cell_type": "code",
   "execution_count": 19,
   "id": "05a3a1bb-b1eb-4496-bb9b-06a709c221de",
   "metadata": {},
   "outputs": [],
   "source": [
    "volume24h_list = []\n",
    "\n",
    "for rows in soup.table.find('tbody'):\n",
    "    volume24h_list.append(next(rows.find_all('td')[2].find('div').children, 0).split(' ')[0])"
   ]
  },
  {
   "cell_type": "code",
   "execution_count": 20,
   "id": "447b08c9-8ff2-4bb7-8e97-d71d370defbd",
   "metadata": {},
   "outputs": [],
   "source": [
    "# volume24h_list"
   ]
  },
  {
   "cell_type": "code",
   "execution_count": 21,
   "id": "0d033df3-2b25-48e0-b01b-cc4481ba5597",
   "metadata": {},
   "outputs": [],
   "source": [
    "mktcap_list = []\n",
    "\n",
    "for rows in soup.table.find('tbody'):\n",
    "    mktcap_list.append(rows.find_all('td')[3].text.split(' ')[0])"
   ]
  },
  {
   "cell_type": "code",
   "execution_count": 22,
   "id": "f058c542-3f3f-4034-a0c6-ab0c0540b027",
   "metadata": {},
   "outputs": [],
   "source": [
    "# mktcap_list:"
   ]
  },
  {
   "cell_type": "code",
   "execution_count": 23,
   "id": "8f81a51a-8e3d-4f5e-acd8-a0d331470f4a",
   "metadata": {},
   "outputs": [],
   "source": [
    "floorprice_list = []\n",
    "\n",
    "for rows in soup.table.find('tbody'):\n",
    "    floorprice_list.append(rows.find_all('td')[4].text.split(' ')[0])\n",
    "    "
   ]
  },
  {
   "cell_type": "code",
   "execution_count": 24,
   "id": "174332a8-ad90-4665-83b4-e05c421107a4",
   "metadata": {},
   "outputs": [],
   "source": [
    "avgprice_list = []\n",
    "\n",
    "for rows in soup.table.find('tbody'):\n",
    "    avgprice_list.append(next(rows.find_all('td')[5].find('div').children, 0).text.split(' ')[0])\n"
   ]
  },
  {
   "cell_type": "code",
   "execution_count": 25,
   "id": "a83089a9-5da5-4240-bf1b-3172eab4ea12",
   "metadata": {},
   "outputs": [],
   "source": [
    "sales24h_list = []\n",
    "\n",
    "for rows in soup.table.find('tbody'):\n",
    "    sales24h_list.append(next(rows.find_all('td')[6].find('div').children, 0).split(' ')[0])\n"
   ]
  },
  {
   "cell_type": "code",
   "execution_count": 26,
   "id": "36e2d1d3-46e9-45b0-9f4d-309564731299",
   "metadata": {},
   "outputs": [],
   "source": [
    "assets_list = []\n",
    "\n",
    "for rows in soup.table.find('tbody'):\n",
    "    assets_list.append(rows.find_all('td')[7].text)\n",
    "    "
   ]
  },
  {
   "cell_type": "code",
   "execution_count": 27,
   "id": "b187df9a-09ae-4c6e-99de-a76e78429b70",
   "metadata": {},
   "outputs": [],
   "source": [
    "owners_list = []\n",
    "\n",
    "for rows in soup.table.find('tbody'):\n",
    "    owners_list.append(rows.find_all('td')[8].text)"
   ]
  },
  {
   "cell_type": "code",
   "execution_count": 28,
   "id": "5cc47d68-bfc0-49a0-86df-6c0a7414e134",
   "metadata": {},
   "outputs": [],
   "source": [
    "ownerspct_list = []\n",
    "\n",
    "for rows in soup.table.find('tbody'):\n",
    "    ownerspct_list.append(rows.find_all('td')[9].text)"
   ]
  },
  {
   "cell_type": "code",
   "execution_count": 29,
   "id": "ad8bd3d1-f080-47d3-a397-e601a1a19d5f",
   "metadata": {},
   "outputs": [],
   "source": [
    "data = {'Rank':rank_list, 'URL Imagem':img_list,'Name':name_list, 'Base Cripto':base_comp,'Volume 24h':volume24h_list, 'Est. Market Cap':mktcap_list,\n",
    "        'Floor Price':floorprice_list, 'Average Price':avgprice_list, 'Sales 24h':sales24h_list, 'Assets':assets_list,\n",
    "            'Owners':owners_list, 'Owners %':ownerspct_list}\n",
    "\n",
    "nft_df = pd.DataFrame(data)"
   ]
  },
  {
   "cell_type": "code",
   "execution_count": 30,
   "id": "52e54a1e-46fe-4dbc-9d03-a235d381186e",
   "metadata": {},
   "outputs": [
    {
     "data": {
      "text/html": [
       "<div>\n",
       "<style scoped>\n",
       "    .dataframe tbody tr th:only-of-type {\n",
       "        vertical-align: middle;\n",
       "    }\n",
       "\n",
       "    .dataframe tbody tr th {\n",
       "        vertical-align: top;\n",
       "    }\n",
       "\n",
       "    .dataframe thead th {\n",
       "        text-align: right;\n",
       "    }\n",
       "</style>\n",
       "<table border=\"1\" class=\"dataframe\">\n",
       "  <thead>\n",
       "    <tr style=\"text-align: right;\">\n",
       "      <th></th>\n",
       "      <th>Rank</th>\n",
       "      <th>URL Imagem</th>\n",
       "      <th>Name</th>\n",
       "      <th>Base Cripto</th>\n",
       "      <th>Volume 24h</th>\n",
       "      <th>Est. Market Cap</th>\n",
       "      <th>Floor Price</th>\n",
       "      <th>Average Price</th>\n",
       "      <th>Sales 24h</th>\n",
       "      <th>Assets</th>\n",
       "      <th>Owners</th>\n",
       "      <th>Owners %</th>\n",
       "    </tr>\n",
       "  </thead>\n",
       "  <tbody>\n",
       "    <tr>\n",
       "      <th>0</th>\n",
       "      <td>1</td>\n",
       "      <td>https://s3.coinmarketcap.com/generated/nft/col...</td>\n",
       "      <td>Bored Ape Yacht Club</td>\n",
       "      <td>ETH</td>\n",
       "      <td>189.99</td>\n",
       "      <td>927,957.62</td>\n",
       "      <td>77.69</td>\n",
       "      <td>95</td>\n",
       "      <td>2</td>\n",
       "      <td>10,000</td>\n",
       "      <td>6,444</td>\n",
       "      <td>64.44 %</td>\n",
       "    </tr>\n",
       "    <tr>\n",
       "      <th>1</th>\n",
       "      <td>2</td>\n",
       "      <td>https://s3.coinmarketcap.com/generated/nft/col...</td>\n",
       "      <td>CryptoPunks</td>\n",
       "      <td>ETH</td>\n",
       "      <td>100</td>\n",
       "      <td>406,430.78</td>\n",
       "      <td>--</td>\n",
       "      <td>50</td>\n",
       "      <td>2</td>\n",
       "      <td>9,999</td>\n",
       "      <td>3,579</td>\n",
       "      <td>35.79 %</td>\n",
       "    </tr>\n",
       "    <tr>\n",
       "      <th>2</th>\n",
       "      <td>3</td>\n",
       "      <td>https://s3.coinmarketcap.com/generated/nft/col...</td>\n",
       "      <td>Otherdeed for Otherside</td>\n",
       "      <td>ETH</td>\n",
       "      <td>181.62</td>\n",
       "      <td>359,106.7</td>\n",
       "      <td>1.74</td>\n",
       "      <td>2.8378</td>\n",
       "      <td>64</td>\n",
       "      <td>100,000</td>\n",
       "      <td>34,373</td>\n",
       "      <td>34.37 %</td>\n",
       "    </tr>\n",
       "    <tr>\n",
       "      <th>3</th>\n",
       "      <td>4</td>\n",
       "      <td>https://s3.coinmarketcap.com/generated/nft/col...</td>\n",
       "      <td>Mutant Ape Yacht Club</td>\n",
       "      <td>ETH</td>\n",
       "      <td>145.97</td>\n",
       "      <td>296,707.94</td>\n",
       "      <td>13.99</td>\n",
       "      <td>13.27</td>\n",
       "      <td>11</td>\n",
       "      <td>19,425</td>\n",
       "      <td>12,966</td>\n",
       "      <td>66.75 %</td>\n",
       "    </tr>\n",
       "    <tr>\n",
       "      <th>4</th>\n",
       "      <td>5</td>\n",
       "      <td>https://s3.coinmarketcap.com/generated/nft/col...</td>\n",
       "      <td>CLONE X</td>\n",
       "      <td>ETH</td>\n",
       "      <td>572.69</td>\n",
       "      <td>183,186.5</td>\n",
       "      <td>7.1</td>\n",
       "      <td>11.93</td>\n",
       "      <td>48</td>\n",
       "      <td>19,366</td>\n",
       "      <td>9,535</td>\n",
       "      <td>49.24 %</td>\n",
       "    </tr>\n",
       "    <tr>\n",
       "      <th>...</th>\n",
       "      <td>...</td>\n",
       "      <td>...</td>\n",
       "      <td>...</td>\n",
       "      <td>...</td>\n",
       "      <td>...</td>\n",
       "      <td>...</td>\n",
       "      <td>...</td>\n",
       "      <td>...</td>\n",
       "      <td>...</td>\n",
       "      <td>...</td>\n",
       "      <td>...</td>\n",
       "      <td>...</td>\n",
       "    </tr>\n",
       "    <tr>\n",
       "      <th>95</th>\n",
       "      <td>96</td>\n",
       "      <td>https://s3.coinmarketcap.com/generated/nft/col...</td>\n",
       "      <td>HDPunks</td>\n",
       "      <td>ETH</td>\n",
       "      <td>0</td>\n",
       "      <td>2,500</td>\n",
       "      <td>0.02</td>\n",
       "      <td>0</td>\n",
       "      <td>0</td>\n",
       "      <td>10,000</td>\n",
       "      <td>1,162</td>\n",
       "      <td>11.62 %</td>\n",
       "    </tr>\n",
       "    <tr>\n",
       "      <th>96</th>\n",
       "      <td>97</td>\n",
       "      <td>https://s3.coinmarketcap.com/generated/nft/col...</td>\n",
       "      <td>FancyBears Metaverse</td>\n",
       "      <td>ETH</td>\n",
       "      <td>2.921</td>\n",
       "      <td>2,422.48</td>\n",
       "      <td>0.295</td>\n",
       "      <td>0.2921</td>\n",
       "      <td>10</td>\n",
       "      <td>7,888</td>\n",
       "      <td>3,328</td>\n",
       "      <td>42.19 %</td>\n",
       "    </tr>\n",
       "    <tr>\n",
       "      <th>97</th>\n",
       "      <td>98</td>\n",
       "      <td>https://s3.coinmarketcap.com/generated/nft/col...</td>\n",
       "      <td>DOPE: Dawn Of the Pixel Empire</td>\n",
       "      <td>ETH</td>\n",
       "      <td>0.034</td>\n",
       "      <td>2,355.59</td>\n",
       "      <td>0.018</td>\n",
       "      <td>0.017</td>\n",
       "      <td>2</td>\n",
       "      <td>10,000</td>\n",
       "      <td>950</td>\n",
       "      <td>9.5 %</td>\n",
       "    </tr>\n",
       "    <tr>\n",
       "      <th>98</th>\n",
       "      <td>99</td>\n",
       "      <td>https://s3.coinmarketcap.com/generated/nft/col...</td>\n",
       "      <td>Bulls &amp; Apes Project - Genesis</td>\n",
       "      <td>ETH</td>\n",
       "      <td>3.7495</td>\n",
       "      <td>2,317.55</td>\n",
       "      <td>0.2199</td>\n",
       "      <td>0.2678</td>\n",
       "      <td>14</td>\n",
       "      <td>10,187</td>\n",
       "      <td>1,621</td>\n",
       "      <td>15.91 %</td>\n",
       "    </tr>\n",
       "    <tr>\n",
       "      <th>99</th>\n",
       "      <td>100</td>\n",
       "      <td>https://s3.coinmarketcap.com/generated/nft/col...</td>\n",
       "      <td>APIENS</td>\n",
       "      <td>ETH</td>\n",
       "      <td>0.38</td>\n",
       "      <td>2,261.66</td>\n",
       "      <td>0.4659</td>\n",
       "      <td>0.38</td>\n",
       "      <td>1</td>\n",
       "      <td>4,229</td>\n",
       "      <td>576</td>\n",
       "      <td>13.62 %</td>\n",
       "    </tr>\n",
       "  </tbody>\n",
       "</table>\n",
       "<p>100 rows × 12 columns</p>\n",
       "</div>"
      ],
      "text/plain": [
       "   Rank                                         URL Imagem  \\\n",
       "0     1  https://s3.coinmarketcap.com/generated/nft/col...   \n",
       "1     2  https://s3.coinmarketcap.com/generated/nft/col...   \n",
       "2     3  https://s3.coinmarketcap.com/generated/nft/col...   \n",
       "3     4  https://s3.coinmarketcap.com/generated/nft/col...   \n",
       "4     5  https://s3.coinmarketcap.com/generated/nft/col...   \n",
       "..  ...                                                ...   \n",
       "95   96  https://s3.coinmarketcap.com/generated/nft/col...   \n",
       "96   97  https://s3.coinmarketcap.com/generated/nft/col...   \n",
       "97   98  https://s3.coinmarketcap.com/generated/nft/col...   \n",
       "98   99  https://s3.coinmarketcap.com/generated/nft/col...   \n",
       "99  100  https://s3.coinmarketcap.com/generated/nft/col...   \n",
       "\n",
       "                              Name Base Cripto Volume 24h Est. Market Cap  \\\n",
       "0             Bored Ape Yacht Club         ETH     189.99      927,957.62   \n",
       "1                      CryptoPunks         ETH        100      406,430.78   \n",
       "2          Otherdeed for Otherside         ETH     181.62       359,106.7   \n",
       "3            Mutant Ape Yacht Club         ETH     145.97      296,707.94   \n",
       "4                          CLONE X         ETH     572.69       183,186.5   \n",
       "..                             ...         ...        ...             ...   \n",
       "95                         HDPunks         ETH          0           2,500   \n",
       "96            FancyBears Metaverse         ETH      2.921        2,422.48   \n",
       "97  DOPE: Dawn Of the Pixel Empire         ETH      0.034        2,355.59   \n",
       "98  Bulls & Apes Project - Genesis         ETH     3.7495        2,317.55   \n",
       "99                          APIENS         ETH       0.38        2,261.66   \n",
       "\n",
       "   Floor Price Average Price Sales 24h   Assets  Owners Owners %  \n",
       "0        77.69            95         2   10,000   6,444  64.44 %  \n",
       "1           --            50         2    9,999   3,579  35.79 %  \n",
       "2         1.74        2.8378        64  100,000  34,373  34.37 %  \n",
       "3        13.99         13.27        11   19,425  12,966  66.75 %  \n",
       "4          7.1         11.93        48   19,366   9,535  49.24 %  \n",
       "..         ...           ...       ...      ...     ...      ...  \n",
       "95        0.02             0         0   10,000   1,162  11.62 %  \n",
       "96       0.295        0.2921        10    7,888   3,328  42.19 %  \n",
       "97       0.018         0.017         2   10,000     950    9.5 %  \n",
       "98      0.2199        0.2678        14   10,187   1,621  15.91 %  \n",
       "99      0.4659          0.38         1    4,229     576  13.62 %  \n",
       "\n",
       "[100 rows x 12 columns]"
      ]
     },
     "execution_count": 30,
     "metadata": {},
     "output_type": "execute_result"
    }
   ],
   "source": [
    "nft_df"
   ]
  },
  {
   "cell_type": "code",
   "execution_count": 31,
   "id": "5d7627d6-5874-470b-b262-cd12f5d1ced4",
   "metadata": {},
   "outputs": [],
   "source": [
    "driver.close()"
   ]
  },
  {
   "cell_type": "markdown",
   "id": "23b6446c-3b04-4e1e-a56b-50f33e9554e1",
   "metadata": {},
   "source": [
    "## Salvando os dados no Metabase"
   ]
  },
  {
   "cell_type": "code",
   "execution_count": 32,
   "id": "b88ad555-f209-4bf2-9353-6f12ddc146a7",
   "metadata": {},
   "outputs": [],
   "source": [
    "mes = datetime.date.today().month\n",
    "dia = datetime.date.today().day\n",
    "ano = datetime.date.today().year"
   ]
  },
  {
   "cell_type": "code",
   "execution_count": 33,
   "id": "81e1b22e-f132-4fa6-8df9-2bf091ea625a",
   "metadata": {},
   "outputs": [],
   "source": [
    "# pasta = r\"'C:\\Users\\sergio.pestana_warre\\Documents\\Warren\\data_analysts-master\\dados locais\\NFT csv\\'\""
   ]
  },
  {
   "cell_type": "code",
   "execution_count": 34,
   "id": "d4534b43-39a3-4f8b-9ecd-aa134fb394ec",
   "metadata": {},
   "outputs": [],
   "source": [
    "nft_df.to_csv(f'nftprices_{dia}0{mes}{ano}.csv' , sep=';',index=False)"
   ]
  },
  {
   "cell_type": "code",
   "execution_count": null,
   "id": "786356f2-a881-47ea-8c7f-9278c9577031",
   "metadata": {},
   "outputs": [],
   "source": []
  },
  {
   "cell_type": "code",
   "execution_count": null,
   "id": "30e766c2-cd98-4ca5-ae3a-86a11a841b99",
   "metadata": {},
   "outputs": [],
   "source": []
  }
 ],
 "metadata": {
  "kernelspec": {
   "display_name": "Python 3 (ipykernel)",
   "language": "python",
   "name": "python3"
  },
  "language_info": {
   "codemirror_mode": {
    "name": "ipython",
    "version": 3
   },
   "file_extension": ".py",
   "mimetype": "text/x-python",
   "name": "python",
   "nbconvert_exporter": "python",
   "pygments_lexer": "ipython3",
   "version": "3.7.10"
  }
 },
 "nbformat": 4,
 "nbformat_minor": 5
}
