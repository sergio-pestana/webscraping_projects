{
 "cells": [
  {
   "cell_type": "code",
   "execution_count": 1,
   "metadata": {},
   "outputs": [],
   "source": [
    "import pandas as pd\n",
    "import numpy as np"
   ]
  },
  {
   "cell_type": "markdown",
   "metadata": {},
   "source": [
    "## Primeira coisa é pensar na pergunta: quem é o melhor jogador da história da NBA para cada posição em quadra?\n",
    "\n",
    "No basquete são 3 principais posições: armador/guard (G), ala/foward (F) e pivô/center (C). Atualmente, na NBA, existem 5 posições derivadas: o point-guard (o que seria o armador clássico), o shooting-guard (o ala que pode substituir o armador durante o jogo), o small-foward (o ala mais agressivo em inflitrações), e power-foward (o pivô que consegue jogar como ala) e o center (que se mantém como pivô clássico)."
   ]
  },
  {
   "cell_type": "code",
   "execution_count": 2,
   "metadata": {},
   "outputs": [
    {
     "name": "stdout",
     "output_type": "stream",
     "text": [
      "<class 'pandas.core.frame.DataFrame'>\n",
      "RangeIndex: 23485 entries, 0 to 23484\n",
      "Data columns (total 11 columns):\n",
      " #   Column          Non-Null Count  Dtype \n",
      "---  ------          --------------  ----- \n",
      " 0   Player          23485 non-null  object\n",
      " 1   Pos             23478 non-null  object\n",
      " 2   HT              23485 non-null  object\n",
      " 3   WT              23485 non-null  object\n",
      " 4   Age             23485 non-null  object\n",
      " 5   Teams           23485 non-null  object\n",
      " 6   GP              23485 non-null  int64 \n",
      " 7   YOS             23485 non-null  int64 \n",
      " 8   Pre-Draft Team  22964 non-null  object\n",
      " 9   Draft Status    23485 non-null  object\n",
      " 10  Nationality     23485 non-null  object\n",
      "dtypes: int64(2), object(9)\n",
      "memory usage: 2.0+ MB\n"
     ]
    }
   ],
   "source": [
    "# Dataframe com as informações gerais dos jogadores\n",
    "df_players = pd.read_csv('AllPlayers_info.csv')\n",
    "df_players.info()"
   ]
  },
  {
   "cell_type": "code",
   "execution_count": 6,
   "metadata": {},
   "outputs": [],
   "source": [
    "df_players.drop_duplicates(subset=['Player'],inplace=True)\n",
    "# df_players.groupby('Player').count().head(10)"
   ]
  },
  {
   "cell_type": "code",
   "execution_count": 7,
   "metadata": {},
   "outputs": [
    {
     "name": "stdout",
     "output_type": "stream",
     "text": [
      "(14445, 24) (7406, 24)\n"
     ]
    }
   ],
   "source": [
    "# Dataframe com as informações estatísticas da temporada regular e dos Playoffs dos jogadores \n",
    "rs_stats = pd.read_csv('AllRegularSeasons_stats.csv')\n",
    "p_stats = pd.read_csv('AllPlayoffs_stats.csv')\n",
    "\n",
    "print(rs_stats.shape, p_stats.shape)"
   ]
  },
  {
   "cell_type": "code",
   "execution_count": 8,
   "metadata": {},
   "outputs": [],
   "source": [
    "# rs_stats.dtypes"
   ]
  },
  {
   "cell_type": "code",
   "execution_count": 9,
   "metadata": {},
   "outputs": [],
   "source": [
    "rs_stats['3PM'] = pd.to_numeric([r.replace('-','0') for r in rs_stats['3PM']])\n",
    "rs_stats['3PA'] = pd.to_numeric([r.replace('-','0') for r in rs_stats['3PA']])\n",
    "rs_stats['3P%'] = pd.to_numeric([r.replace('-','0') for r in rs_stats['3P%']])\n",
    "rs_stats['ORB'] = pd.to_numeric([r.replace('-','0') for r in rs_stats['ORB']])\n",
    "rs_stats['DRB'] = pd.to_numeric([r.replace('-','0') for r in rs_stats['DRB']])\n",
    "rs_stats['STL'] = pd.to_numeric([r.replace('-','0') for r in rs_stats['STL']])\n",
    "rs_stats['BLK'] = pd.to_numeric([r.replace('-','0') for r in rs_stats['BLK']])\n",
    "rs_stats['TOV'] = pd.to_numeric([r.replace('-','0') for r in rs_stats['TOV']])"
   ]
  },
  {
   "cell_type": "code",
   "execution_count": 31,
   "metadata": {},
   "outputs": [],
   "source": [
    "# rs_stats.sort_values('TOV').head(10)"
   ]
  },
  {
   "cell_type": "code",
   "execution_count": 11,
   "metadata": {},
   "outputs": [
    {
     "data": {
      "text/html": [
       "<div>\n",
       "<style scoped>\n",
       "    .dataframe tbody tr th:only-of-type {\n",
       "        vertical-align: middle;\n",
       "    }\n",
       "\n",
       "    .dataframe tbody tr th {\n",
       "        vertical-align: top;\n",
       "    }\n",
       "\n",
       "    .dataframe thead th {\n",
       "        text-align: right;\n",
       "    }\n",
       "</style>\n",
       "<table border=\"1\" class=\"dataframe\">\n",
       "  <thead>\n",
       "    <tr style=\"text-align: right;\">\n",
       "      <th></th>\n",
       "      <th>#</th>\n",
       "      <th>GP</th>\n",
       "      <th>MIN</th>\n",
       "      <th>PTS</th>\n",
       "      <th>FGM</th>\n",
       "      <th>FGA</th>\n",
       "      <th>FG%</th>\n",
       "      <th>3PM</th>\n",
       "      <th>3PA</th>\n",
       "      <th>3P%</th>\n",
       "      <th>...</th>\n",
       "      <th>FTA</th>\n",
       "      <th>FT%</th>\n",
       "      <th>ORB</th>\n",
       "      <th>DRB</th>\n",
       "      <th>REB</th>\n",
       "      <th>AST</th>\n",
       "      <th>STL</th>\n",
       "      <th>BLK</th>\n",
       "      <th>TOV</th>\n",
       "      <th>PF</th>\n",
       "    </tr>\n",
       "    <tr>\n",
       "      <th>Player</th>\n",
       "      <th></th>\n",
       "      <th></th>\n",
       "      <th></th>\n",
       "      <th></th>\n",
       "      <th></th>\n",
       "      <th></th>\n",
       "      <th></th>\n",
       "      <th></th>\n",
       "      <th></th>\n",
       "      <th></th>\n",
       "      <th></th>\n",
       "      <th></th>\n",
       "      <th></th>\n",
       "      <th></th>\n",
       "      <th></th>\n",
       "      <th></th>\n",
       "      <th></th>\n",
       "      <th></th>\n",
       "      <th></th>\n",
       "      <th></th>\n",
       "      <th></th>\n",
       "    </tr>\n",
       "  </thead>\n",
       "  <tbody>\n",
       "    <tr>\n",
       "      <th>A.C. Green</th>\n",
       "      <td>2008</td>\n",
       "      <td>1278</td>\n",
       "      <td>36555.0</td>\n",
       "      <td>12331</td>\n",
       "      <td>4544</td>\n",
       "      <td>9202</td>\n",
       "      <td>7.815</td>\n",
       "      <td>124</td>\n",
       "      <td>489</td>\n",
       "      <td>2.584</td>\n",
       "      <td>...</td>\n",
       "      <td>4249</td>\n",
       "      <td>11.451</td>\n",
       "      <td>3354</td>\n",
       "      <td>6119</td>\n",
       "      <td>9473</td>\n",
       "      <td>1400</td>\n",
       "      <td>1033</td>\n",
       "      <td>547</td>\n",
       "      <td>1433</td>\n",
       "      <td>2436</td>\n",
       "    </tr>\n",
       "    <tr>\n",
       "      <th>A.J. English</th>\n",
       "      <td>254</td>\n",
       "      <td>151</td>\n",
       "      <td>3108.0</td>\n",
       "      <td>1502</td>\n",
       "      <td>617</td>\n",
       "      <td>1418</td>\n",
       "      <td>0.872</td>\n",
       "      <td>9</td>\n",
       "      <td>65</td>\n",
       "      <td>0.273</td>\n",
       "      <td>...</td>\n",
       "      <td>333</td>\n",
       "      <td>1.548</td>\n",
       "      <td>140</td>\n",
       "      <td>175</td>\n",
       "      <td>315</td>\n",
       "      <td>320</td>\n",
       "      <td>57</td>\n",
       "      <td>24</td>\n",
       "      <td>203</td>\n",
       "      <td>287</td>\n",
       "    </tr>\n",
       "    <tr>\n",
       "      <th>A.J. Price</th>\n",
       "      <td>262</td>\n",
       "      <td>44</td>\n",
       "      <td>568.1</td>\n",
       "      <td>172</td>\n",
       "      <td>59</td>\n",
       "      <td>174</td>\n",
       "      <td>0.339</td>\n",
       "      <td>26</td>\n",
       "      <td>88</td>\n",
       "      <td>0.295</td>\n",
       "      <td>...</td>\n",
       "      <td>35</td>\n",
       "      <td>0.800</td>\n",
       "      <td>13</td>\n",
       "      <td>48</td>\n",
       "      <td>61</td>\n",
       "      <td>86</td>\n",
       "      <td>20</td>\n",
       "      <td>2</td>\n",
       "      <td>32</td>\n",
       "      <td>30</td>\n",
       "    </tr>\n",
       "    <tr>\n",
       "      <th>Aaron Brooks</th>\n",
       "      <td>1182</td>\n",
       "      <td>562</td>\n",
       "      <td>12641.7</td>\n",
       "      <td>5920</td>\n",
       "      <td>2140</td>\n",
       "      <td>5184</td>\n",
       "      <td>3.290</td>\n",
       "      <td>773</td>\n",
       "      <td>2078</td>\n",
       "      <td>2.940</td>\n",
       "      <td>...</td>\n",
       "      <td>1035</td>\n",
       "      <td>6.616</td>\n",
       "      <td>234</td>\n",
       "      <td>772</td>\n",
       "      <td>1006</td>\n",
       "      <td>1818</td>\n",
       "      <td>340</td>\n",
       "      <td>82</td>\n",
       "      <td>945</td>\n",
       "      <td>1120</td>\n",
       "    </tr>\n",
       "    <tr>\n",
       "      <th>Aaron Gordon</th>\n",
       "      <td>602</td>\n",
       "      <td>481</td>\n",
       "      <td>14479.5</td>\n",
       "      <td>6644</td>\n",
       "      <td>2512</td>\n",
       "      <td>5455</td>\n",
       "      <td>3.230</td>\n",
       "      <td>574</td>\n",
       "      <td>1771</td>\n",
       "      <td>2.247</td>\n",
       "      <td>...</td>\n",
       "      <td>1491</td>\n",
       "      <td>4.884</td>\n",
       "      <td>795</td>\n",
       "      <td>2346</td>\n",
       "      <td>3141</td>\n",
       "      <td>1280</td>\n",
       "      <td>368</td>\n",
       "      <td>313</td>\n",
       "      <td>754</td>\n",
       "      <td>970</td>\n",
       "    </tr>\n",
       "    <tr>\n",
       "      <th>Aaron Gray</th>\n",
       "      <td>761</td>\n",
       "      <td>166</td>\n",
       "      <td>2140.8</td>\n",
       "      <td>649</td>\n",
       "      <td>267</td>\n",
       "      <td>532</td>\n",
       "      <td>1.506</td>\n",
       "      <td>0</td>\n",
       "      <td>2</td>\n",
       "      <td>0.000</td>\n",
       "      <td>...</td>\n",
       "      <td>205</td>\n",
       "      <td>1.674</td>\n",
       "      <td>237</td>\n",
       "      <td>432</td>\n",
       "      <td>669</td>\n",
       "      <td>114</td>\n",
       "      <td>57</td>\n",
       "      <td>51</td>\n",
       "      <td>148</td>\n",
       "      <td>379</td>\n",
       "    </tr>\n",
       "    <tr>\n",
       "      <th>Aaron Holiday</th>\n",
       "      <td>534</td>\n",
       "      <td>195</td>\n",
       "      <td>3814.1</td>\n",
       "      <td>1502</td>\n",
       "      <td>554</td>\n",
       "      <td>1337</td>\n",
       "      <td>1.251</td>\n",
       "      <td>193</td>\n",
       "      <td>506</td>\n",
       "      <td>1.141</td>\n",
       "      <td>...</td>\n",
       "      <td>238</td>\n",
       "      <td>2.538</td>\n",
       "      <td>61</td>\n",
       "      <td>306</td>\n",
       "      <td>367</td>\n",
       "      <td>501</td>\n",
       "      <td>143</td>\n",
       "      <td>38</td>\n",
       "      <td>221</td>\n",
       "      <td>306</td>\n",
       "    </tr>\n",
       "    <tr>\n",
       "      <th>Aaron James</th>\n",
       "      <td>328</td>\n",
       "      <td>304</td>\n",
       "      <td>6612.0</td>\n",
       "      <td>3264</td>\n",
       "      <td>1371</td>\n",
       "      <td>2861</td>\n",
       "      <td>1.909</td>\n",
       "      <td>0</td>\n",
       "      <td>0</td>\n",
       "      <td>0.000</td>\n",
       "      <td>...</td>\n",
       "      <td>690</td>\n",
       "      <td>3.023</td>\n",
       "      <td>493</td>\n",
       "      <td>791</td>\n",
       "      <td>1284</td>\n",
       "      <td>315</td>\n",
       "      <td>138</td>\n",
       "      <td>64</td>\n",
       "      <td>241</td>\n",
       "      <td>845</td>\n",
       "    </tr>\n",
       "    <tr>\n",
       "      <th>Aaron McKie</th>\n",
       "      <td>1451</td>\n",
       "      <td>676</td>\n",
       "      <td>16605.0</td>\n",
       "      <td>4962</td>\n",
       "      <td>1915</td>\n",
       "      <td>4397</td>\n",
       "      <td>3.846</td>\n",
       "      <td>326</td>\n",
       "      <td>951</td>\n",
       "      <td>2.872</td>\n",
       "      <td>...</td>\n",
       "      <td>1027</td>\n",
       "      <td>6.889</td>\n",
       "      <td>417</td>\n",
       "      <td>1811</td>\n",
       "      <td>2228</td>\n",
       "      <td>1834</td>\n",
       "      <td>811</td>\n",
       "      <td>134</td>\n",
       "      <td>917</td>\n",
       "      <td>1396</td>\n",
       "    </tr>\n",
       "    <tr>\n",
       "      <th>Aaron Nesmith</th>\n",
       "      <td>258</td>\n",
       "      <td>46</td>\n",
       "      <td>668.7</td>\n",
       "      <td>218</td>\n",
       "      <td>78</td>\n",
       "      <td>178</td>\n",
       "      <td>0.438</td>\n",
       "      <td>40</td>\n",
       "      <td>108</td>\n",
       "      <td>0.370</td>\n",
       "      <td>...</td>\n",
       "      <td>28</td>\n",
       "      <td>0.786</td>\n",
       "      <td>28</td>\n",
       "      <td>99</td>\n",
       "      <td>127</td>\n",
       "      <td>23</td>\n",
       "      <td>15</td>\n",
       "      <td>9</td>\n",
       "      <td>23</td>\n",
       "      <td>87</td>\n",
       "    </tr>\n",
       "  </tbody>\n",
       "</table>\n",
       "<p>10 rows × 21 columns</p>\n",
       "</div>"
      ],
      "text/plain": [
       "                  #    GP      MIN    PTS   FGM   FGA    FG%  3PM   3PA  \\\n",
       "Player                                                                    \n",
       "A.C. Green     2008  1278  36555.0  12331  4544  9202  7.815  124   489   \n",
       "A.J. English    254   151   3108.0   1502   617  1418  0.872    9    65   \n",
       "A.J. Price      262    44    568.1    172    59   174  0.339   26    88   \n",
       "Aaron Brooks   1182   562  12641.7   5920  2140  5184  3.290  773  2078   \n",
       "Aaron Gordon    602   481  14479.5   6644  2512  5455  3.230  574  1771   \n",
       "Aaron Gray      761   166   2140.8    649   267   532  1.506    0     2   \n",
       "Aaron Holiday   534   195   3814.1   1502   554  1337  1.251  193   506   \n",
       "Aaron James     328   304   6612.0   3264  1371  2861  1.909    0     0   \n",
       "Aaron McKie    1451   676  16605.0   4962  1915  4397  3.846  326   951   \n",
       "Aaron Nesmith   258    46    668.7    218    78   178  0.438   40   108   \n",
       "\n",
       "                 3P%  ...   FTA     FT%   ORB   DRB   REB   AST   STL  BLK  \\\n",
       "Player                ...                                                    \n",
       "A.C. Green     2.584  ...  4249  11.451  3354  6119  9473  1400  1033  547   \n",
       "A.J. English   0.273  ...   333   1.548   140   175   315   320    57   24   \n",
       "A.J. Price     0.295  ...    35   0.800    13    48    61    86    20    2   \n",
       "Aaron Brooks   2.940  ...  1035   6.616   234   772  1006  1818   340   82   \n",
       "Aaron Gordon   2.247  ...  1491   4.884   795  2346  3141  1280   368  313   \n",
       "Aaron Gray     0.000  ...   205   1.674   237   432   669   114    57   51   \n",
       "Aaron Holiday  1.141  ...   238   2.538    61   306   367   501   143   38   \n",
       "Aaron James    0.000  ...   690   3.023   493   791  1284   315   138   64   \n",
       "Aaron McKie    2.872  ...  1027   6.889   417  1811  2228  1834   811  134   \n",
       "Aaron Nesmith  0.370  ...    28   0.786    28    99   127    23    15    9   \n",
       "\n",
       "                TOV    PF  \n",
       "Player                     \n",
       "A.C. Green     1433  2436  \n",
       "A.J. English    203   287  \n",
       "A.J. Price       32    30  \n",
       "Aaron Brooks    945  1120  \n",
       "Aaron Gordon    754   970  \n",
       "Aaron Gray      148   379  \n",
       "Aaron Holiday   221   306  \n",
       "Aaron James     241   845  \n",
       "Aaron McKie     917  1396  \n",
       "Aaron Nesmith    23    87  \n",
       "\n",
       "[10 rows x 21 columns]"
      ]
     },
     "execution_count": 11,
     "metadata": {},
     "output_type": "execute_result"
    }
   ],
   "source": [
    "regular_season_stats = rs_stats.groupby(['Player']).sum()\n",
    "regular_season_stats.head(10)"
   ]
  },
  {
   "cell_type": "code",
   "execution_count": 30,
   "metadata": {},
   "outputs": [],
   "source": [
    "p_stats['3PM'] = pd.to_numeric([r.replace('-','0') for r in p_stats['3PM']])\n",
    "p_stats['3PA'] = pd.to_numeric([r.replace('-','0') for r in p_stats['3PA']])\n",
    "p_stats['3P%'] = pd.to_numeric([r.replace('-','0') for r in p_stats['3P%']])\n",
    "p_stats['ORB'] = pd.to_numeric([r.replace('-','0') for r in p_stats['ORB']])\n",
    "p_stats['DRB'] = pd.to_numeric([r.replace('-','0') for r in p_stats['DRB']])\n",
    "p_stats['STL'] = pd.to_numeric([r.replace('-','0') for r in p_stats['STL']])\n",
    "p_stats['BLK'] = pd.to_numeric([r.replace('-','0') for r in p_stats['BLK']])\n",
    "p_stats['TOV'] = pd.to_numeric([r.replace('-','0') for r in p_stats['TOV']])"
   ]
  },
  {
   "cell_type": "code",
   "execution_count": 239,
   "metadata": {},
   "outputs": [
    {
     "data": {
      "text/plain": [
       "Index(['#', 'GP', 'MIN', 'PTS', 'FGM', 'FGA', 'FG%', '3PM', '3PA', '3P%',\n",
       "       'FTM', 'FTA', 'FT%', 'ORB', 'DRB', 'REB', 'AST', 'STL', 'BLK', 'TOV',\n",
       "       'PF'],\n",
       "      dtype='object')"
      ]
     },
     "execution_count": 239,
     "metadata": {},
     "output_type": "execute_result"
    }
   ],
   "source": [
    "playoffs_stats = p_stats.groupby(['Player']).sum()\n",
    "playoffs_stats.columns"
   ]
  },
  {
   "cell_type": "markdown",
   "metadata": {},
   "source": [
    "## O melhor point-guard?"
   ]
  },
  {
   "cell_type": "code",
   "execution_count": 35,
   "metadata": {},
   "outputs": [
    {
     "data": {
      "text/plain": [
       "(325, 11)"
      ]
     },
     "execution_count": 35,
     "metadata": {},
     "output_type": "execute_result"
    }
   ],
   "source": [
    "# Filtrando os point-guards\n",
    "pg_players = df_players.query(\"Pos == 'PG'\")\n",
    "pg_players.shape"
   ]
  },
  {
   "cell_type": "markdown",
   "metadata": {},
   "source": [
    "A partir da definição das métricas, cria-se um ranking usando as estatísticas da temporada regular."
   ]
  },
  {
   "cell_type": "code",
   "execution_count": 21,
   "metadata": {},
   "outputs": [],
   "source": [
    "# Regular Season Stats\n",
    "pg_df = pd.merge(pg_players, regular_season_stats, how='inner', on='Player') # O inner join serve para já fazer os filtros de jogadores que efetivamente jogaram e possuem estatísticas\n",
    "pg_df.query(\"GP_y > 100\", inplace=True)\n",
    "\n",
    "pg_df['avg_AST'] = pg_df['AST'] / pg_df['GP_y']\n",
    "pg_df['avg_PTS'] = pg_df['PTS'] / pg_df['GP_y']"
   ]
  },
  {
   "cell_type": "code",
   "execution_count": 225,
   "metadata": {},
   "outputs": [],
   "source": [
    "ranking_pg = pg_df[['Player', 'AST', 'avg_AST', 'avg_PTS']]\n",
    "ranking_pg = ranking_pg.sort_values('AST', ascending=False).head(15) # TOP 10 total de assistencias\n",
    "ranking_pg = ranking_pg.sort_values('avg_AST', ascending=False).head(10).reset_index(False, drop=True) # TOP 5 média de assistencias\n",
    "ranking_pg = ranking_pg.sort_values('avg_PTS', ascending=False).head(5).reset_index(False, drop=True) # TOP 5 média de pontos"
   ]
  },
  {
   "cell_type": "code",
   "execution_count": 226,
   "metadata": {},
   "outputs": [],
   "source": [
    "final_ranking_pg = pd.merge(ranking_pg, playoffs_stats[['GP','AST', 'PTS']], how='inner', on='Player') # O inner join serve para já fazer os filtros de jogadores que efetivamente jogaram e possuem estatísticas\n",
    "final_ranking_pg = final_ranking_pg.sort_values('GP', ascending=False).head(3) # ordenando por mais jogos em playoffs\n",
    "\n",
    "final_ranking_pg['avg_ploff_AST'] = final_ranking_pg['AST_y'] / final_ranking_pg['GP']\n",
    "final_ranking_pg = final_ranking_pg.sort_values('avg_ploff_AST', ascending=False).head(3) # TOP 3 a partir da maior media de assistencias em playoffs\n"
   ]
  },
  {
   "cell_type": "code",
   "execution_count": 227,
   "metadata": {},
   "outputs": [
    {
     "name": "stdout",
     "output_type": "stream",
     "text": [
      "1st. Magic Johnson\n",
      "2nd. Isiah Thomas\n",
      "3rd. Chris Paul\n"
     ]
    },
    {
     "data": {
      "text/plain": [
       "[None, None, None]"
      ]
     },
     "execution_count": 227,
     "metadata": {},
     "output_type": "execute_result"
    }
   ],
   "source": [
    "[print(f'{i}. {p}') for p, i in zip(final_ranking_pg['Player'], ['1st', '2nd', '3rd'])]"
   ]
  },
  {
   "cell_type": "markdown",
   "metadata": {},
   "source": [
    "## O melhor SG?"
   ]
  },
  {
   "cell_type": "code",
   "execution_count": 228,
   "metadata": {},
   "outputs": [
    {
     "data": {
      "text/plain": [
       "(453, 11)"
      ]
     },
     "execution_count": 228,
     "metadata": {},
     "output_type": "execute_result"
    }
   ],
   "source": [
    "# Filtrando os shooting-guards\n",
    "sg_players = df_players.query(\"Pos == 'SG'\")\n",
    "sg_players.shape"
   ]
  },
  {
   "cell_type": "code",
   "execution_count": 235,
   "metadata": {},
   "outputs": [],
   "source": [
    "# Regular Season Stats\n",
    "sg_df = pd.merge(sg_players, regular_season_stats, how='inner', on='Player') # O inner join serve para já fazer os filtros de jogadores que efetivamente jogaram e possuem estatísticas\n",
    "sg_df.query(\"GP_y > 100\", inplace=True)\n",
    "\n",
    "sg_df['pct_3P'] = sg_df['3PM'] / sg_df['3PA']\n",
    "sg_df['pct_FG'] = sg_df['FGM'] / sg_df['FGA']\n",
    "sg_df['avg_PTS'] = sg_df['PTS'] / sg_df['GP_y']"
   ]
  },
  {
   "cell_type": "code",
   "execution_count": 243,
   "metadata": {},
   "outputs": [],
   "source": [
    "ranking_sg = sg_df[['Player', 'PTS', 'avg_PTS', '3PM', 'pct_FG']].fillna(0)\n",
    "ranking_sg = ranking_sg.sort_values('PTS', ascending=False).head(15).reset_index(False, drop=True) # TOP 10 total de pontos\n",
    "ranking_sg = ranking_sg.sort_values('avg_PTS', ascending=False).head(10) # TOP 5 média de pontos\n",
    "ranking_sg = ranking_sg.sort_values('3PM', ascending=False).head(5) # Reordenando pelo pct de 3 pontos"
   ]
  },
  {
   "cell_type": "code",
   "execution_count": 244,
   "metadata": {},
   "outputs": [],
   "source": [
    "final_ranking_sg = pd.merge(ranking_sg, playoffs_stats[['GP', '3P%', 'PTS']], how='inner', on='Player') # O inner join serve para já fazer os filtros de jogadores que efetivamente jogaram e possuem estatísticas\n",
    "final_ranking_sg = final_ranking_sg.sort_values('GP', ascending=False).head(3) # ordenando por mais jogos em playoffs\n",
    "\n",
    "final_ranking_sg['avg_ploff_PTS'] = final_ranking_sg['PTS_y'] / final_ranking_sg['GP']\n",
    "final_ranking_sg = final_ranking_sg.sort_values('avg_ploff_PTS', ascending=False).head(3) # TOP 3 a partir da maior media de pontos em playoffs\n"
   ]
  },
  {
   "cell_type": "code",
   "execution_count": 245,
   "metadata": {},
   "outputs": [
    {
     "name": "stdout",
     "output_type": "stream",
     "text": [
      "1st. Kobe Bryant\n",
      "2nd. James Harden\n",
      "3rd. Ray Allen\n"
     ]
    },
    {
     "data": {
      "text/plain": [
       "[None, None, None]"
      ]
     },
     "execution_count": 245,
     "metadata": {},
     "output_type": "execute_result"
    }
   ],
   "source": [
    "[print(f'{i}. {p}') for p, i in zip(final_ranking_sg['Player'], ['1st', '2nd', '3rd'])]"
   ]
  },
  {
   "cell_type": "markdown",
   "metadata": {},
   "source": [
    "## O melhor SF?"
   ]
  },
  {
   "cell_type": "code",
   "execution_count": 183,
   "metadata": {},
   "outputs": [
    {
     "data": {
      "text/plain": [
       "(377, 11)"
      ]
     },
     "execution_count": 183,
     "metadata": {},
     "output_type": "execute_result"
    }
   ],
   "source": [
    "# Filtrando os shooting-guards\n",
    "sf_players = df_players.query(\"Pos == 'SF'\")\n",
    "sf_players.shape"
   ]
  },
  {
   "cell_type": "code",
   "execution_count": 184,
   "metadata": {},
   "outputs": [],
   "source": [
    "# Regular Season Stats\n",
    "sf_df = pd.merge(sf_players, regular_season_stats, how='inner', on='Player') # O inner join serve para já fazer os filtros de jogadores que efetivamente jogaram e possuem estatísticas\n",
    "sf_df.query(\"GP_y > 100\", inplace=True)\n",
    "\n",
    "sf_df['avg_PTS'] = sf_df['PTS'] / sf_df['GP_y']"
   ]
  },
  {
   "cell_type": "code",
   "execution_count": 253,
   "metadata": {},
   "outputs": [],
   "source": [
    "ranking_sf = sf_df[['Player', 'PTS', 'avg_PTS', 'FGM']].fillna(0)\n",
    "ranking_sf = ranking_sf.sort_values('PTS', ascending=False).head(15).reset_index(False, drop=True) # TOP 10 total de pontos\n",
    "ranking_sf = ranking_sf.sort_values('avg_PTS', ascending=False).head(10) # TOP 5 média de pontos\n",
    "ranking_sf = ranking_sf.sort_values('FGM', ascending=False).head(5) # TOP 5 média de pontos"
   ]
  },
  {
   "cell_type": "code",
   "execution_count": 259,
   "metadata": {},
   "outputs": [],
   "source": [
    "final_ranking_sf = pd.merge(ranking_sf, playoffs_stats[['GP','FG%', 'FT%', 'PTS']], how='inner', on='Player') # O inner join serve para já fazer os filtros de jogadores que efetivamente jogaram e possuem estatísticas\n",
    "final_ranking_sf = final_ranking_sf.sort_values('GP', ascending=False).head(3) # ordenando por mais jogos em playoffs\n",
    "\n",
    "final_ranking_sf['avg_ploff_PTS'] = final_ranking_sf['PTS_y'] / final_ranking_sf['GP']\n",
    "final_ranking_sf = final_ranking_sf.sort_values('FG%', ascending=False).head(3) # TOP 3 a partir da maior percentual de lances livres em playoffs"
   ]
  },
  {
   "cell_type": "code",
   "execution_count": 260,
   "metadata": {},
   "outputs": [
    {
     "name": "stdout",
     "output_type": "stream",
     "text": [
      "1st. Larry Bird\n",
      "2nd. Paul Pierce\n",
      "3rd. Kevin Durant\n"
     ]
    },
    {
     "data": {
      "text/plain": [
       "[None, None, None]"
      ]
     },
     "execution_count": 260,
     "metadata": {},
     "output_type": "execute_result"
    }
   ],
   "source": [
    "[print(f'{i}. {p}') for p, i in zip(final_ranking_sf['Player'], ['1st', '2nd', '3rd'])]"
   ]
  },
  {
   "cell_type": "markdown",
   "metadata": {},
   "source": [
    "## O melhor PF?"
   ]
  },
  {
   "cell_type": "code",
   "execution_count": 189,
   "metadata": {},
   "outputs": [
    {
     "data": {
      "text/plain": [
       "(456, 11)"
      ]
     },
     "execution_count": 189,
     "metadata": {},
     "output_type": "execute_result"
    }
   ],
   "source": [
    "# Filtrando os shooting-guards\n",
    "pf_players = df_players.query(\"Pos == 'PF'\")\n",
    "pf_players.shape"
   ]
  },
  {
   "cell_type": "code",
   "execution_count": 190,
   "metadata": {},
   "outputs": [],
   "source": [
    "# Regular Season Stats\n",
    "pf_df = pd.merge(pf_players, regular_season_stats, how='inner', on='Player') # O inner join serve para já fazer os filtros de jogadores que efetivamente jogaram e possuem estatísticas\n",
    "pf_df.query(\"GP_y > 100\", inplace=True)\n",
    "\n",
    "pf_df['pct_FT'] = pf_df['FTM'] / pf_df['FTA']\n",
    "pf_df['pct_FG'] = pf_df['FGM'] / pf_df['FGA']\n",
    "pf_df['avg_PTS'] = pf_df['PTS'] / pf_df['GP_y']"
   ]
  },
  {
   "cell_type": "code",
   "execution_count": 265,
   "metadata": {},
   "outputs": [],
   "source": [
    "ranking_pf = pf_df[['Player', 'PTS', 'avg_PTS', 'REB']].fillna(0)\n",
    "ranking_pf = ranking_pf.sort_values('PTS', ascending=False).head(15).reset_index(False, drop=True) # TOP 10 total de pontos\n",
    "ranking_pf = ranking_pf.sort_values('avg_PTS', ascending=False).head(10) # TOP 5 média de pontos\n",
    "ranking_pf = ranking_pf.sort_values('REB', ascending=False).head(5) # TOP 5 porcentagem de acertos"
   ]
  },
  {
   "cell_type": "code",
   "execution_count": 266,
   "metadata": {},
   "outputs": [],
   "source": [
    "final_ranking_pf = pd.merge(ranking_pf, playoffs_stats[['GP','FGM', 'FT%', 'PTS']], how='inner', on='Player') # O inner join serve para já fazer os filtros de jogadores que efetivamente jogaram e possuem estatísticas\n",
    "final_ranking_pf = final_ranking_pf.sort_values('GP', ascending=False).head(3) # ordenando por mais jogos em playoffs\n",
    "\n",
    "final_ranking_pf = final_ranking_pf.sort_values('FT%', ascending=False).head(3) # TOP 3 a partir da maior percentual de lances livres em playoffs"
   ]
  },
  {
   "cell_type": "code",
   "execution_count": 267,
   "metadata": {},
   "outputs": [
    {
     "name": "stdout",
     "output_type": "stream",
     "text": [
      "1st. Karl Malone\n",
      "2nd. Dirk Nowitzki\n",
      "3rd. Kevin Garnett\n"
     ]
    },
    {
     "data": {
      "text/plain": [
       "[None, None, None]"
      ]
     },
     "execution_count": 267,
     "metadata": {},
     "output_type": "execute_result"
    }
   ],
   "source": [
    "[print(f'{i}. {p}') for p, i in zip(final_ranking_pf['Player'], ['1st', '2nd', '3rd'])]"
   ]
  },
  {
   "cell_type": "markdown",
   "metadata": {},
   "source": [
    "## O melhor C?"
   ]
  },
  {
   "cell_type": "code",
   "execution_count": 211,
   "metadata": {},
   "outputs": [
    {
     "data": {
      "text/plain": [
       "(560, 11)"
      ]
     },
     "execution_count": 211,
     "metadata": {},
     "output_type": "execute_result"
    }
   ],
   "source": [
    "# Filtrando os shooting-guards\n",
    "c_players = df_players.query(\"Pos == 'C'\")\n",
    "c_players.shape"
   ]
  },
  {
   "cell_type": "code",
   "execution_count": 213,
   "metadata": {},
   "outputs": [],
   "source": [
    "# Regular Season Stats\n",
    "c_df = pd.merge(c_players, regular_season_stats, how='inner', on='Player') # O inner join serve para já fazer os filtros de jogadores que efetivamente jogaram e possuem estatísticas\n",
    "c_df.query(\"GP_y > 100\", inplace=True)\n",
    "\n",
    "c_df['avg_REB'] = c_df['REB'] / c_df['GP_y']\n",
    "c_df['avg_BLK'] = c_df['BLK'] / c_df['GP_y']\n",
    "c_df['avg_PTS'] = c_df['PTS'] / c_df['GP_y']"
   ]
  },
  {
   "cell_type": "code",
   "execution_count": 268,
   "metadata": {},
   "outputs": [],
   "source": [
    "ranking_c = c_df[['Player', 'REB', 'avg_REB', 'BLK', 'avg_BLK', 'PTS', 'avg_PTS']].fillna(0)\n",
    "ranking_c = ranking_c.sort_values('REB', ascending=False).head(15).reset_index(False, drop=True) # TOP 10 total de rebotes\n",
    "ranking_c = ranking_c.sort_values('PTS', ascending=False).head(10) # TOP 10 média de pontos\n",
    "ranking_c = ranking_c.sort_values('avg_PTS', ascending=False).head(5) # TOP 10 média de pontos"
   ]
  },
  {
   "cell_type": "code",
   "execution_count": 272,
   "metadata": {},
   "outputs": [],
   "source": [
    "final_ranking_c = pd.merge(ranking_c, playoffs_stats[['GP','REB', 'PTS']], how='inner', on='Player') # O inner join serve para já fazer os filtros de jogadores que efetivamente jogaram e possuem estatísticas\n",
    "final_ranking_c = final_ranking_c.sort_values('GP', ascending=False).head(3) # ordenando por mais jogos em playoffs\n",
    "\n",
    "final_ranking_c = final_ranking_c.sort_values('REB_y', ascending=False).head(3) # TOP 3 a partir da maior percentual de lances livres em playoffs"
   ]
  },
  {
   "cell_type": "code",
   "execution_count": 273,
   "metadata": {},
   "outputs": [
    {
     "name": "stdout",
     "output_type": "stream",
     "text": [
      "1st. Wilt Chamberlain\n",
      "2nd. Shaquille O'Neal\n",
      "3rd. Kareem Abdul-Jabbar\n"
     ]
    },
    {
     "data": {
      "text/plain": [
       "[None, None, None]"
      ]
     },
     "execution_count": 273,
     "metadata": {},
     "output_type": "execute_result"
    }
   ],
   "source": [
    "[print(f'{i}. {p}') for p, i in zip(final_ranking_c['Player'], ['1st', '2nd', '3rd'])]"
   ]
  },
  {
   "cell_type": "code",
   "execution_count": null,
   "metadata": {},
   "outputs": [],
   "source": []
  }
 ],
 "metadata": {
  "kernelspec": {
   "display_name": "Python 3.10.4 64-bit",
   "language": "python",
   "name": "python3"
  },
  "language_info": {
   "codemirror_mode": {
    "name": "ipython",
    "version": 3
   },
   "file_extension": ".py",
   "mimetype": "text/x-python",
   "name": "python",
   "nbconvert_exporter": "python",
   "pygments_lexer": "ipython3",
   "version": "3.10.4"
  },
  "orig_nbformat": 4,
  "vscode": {
   "interpreter": {
    "hash": "916dbcbb3f70747c44a77c7bcd40155683ae19c65e1c03b4aa3499c5328201f1"
   }
  }
 },
 "nbformat": 4,
 "nbformat_minor": 2
}
